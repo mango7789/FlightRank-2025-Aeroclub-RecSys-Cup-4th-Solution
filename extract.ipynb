{
 "cells": [
  {
   "cell_type": "code",
   "execution_count": null,
   "id": "e0efd445",
   "metadata": {},
   "outputs": [],
   "source": [
    "import os\n",
    "import ijson\n",
    "import pandas as pd\n",
    "from concurrent.futures import ProcessPoolExecutor, as_completed\n",
    "from tqdm import tqdm\n",
    "\n",
    "RAW_DIR = \"./data/raw\"\n",
    "OUTPUT_FILE = \"./data/label.parquet\"\n",
    "\n",
    "\n",
    "def extract_labels_from_json(file_path):\n",
    "    ranker_id = os.path.splitext(os.path.basename(file_path))[0]\n",
    "    results = []\n",
    "    # group_id = 0\n",
    "    try:\n",
    "        with open(file_path, \"rb\") as f:\n",
    "            flights = ijson.items(f, \"data.$values.item\")\n",
    "            for flight in flights:\n",
    "                legs = flight.get(\"legs\", [])\n",
    "\n",
    "                for pricing in flight.get(\"pricings\", []):\n",
    "                    results.append(\n",
    "                        {\n",
    "                            \"ranker_id\": ranker_id,\n",
    "                            # \"group_id\": group_id,\n",
    "                            \"row_id\": pricing.get(\"ordinal\", 0) + 1,\n",
    "                            \"totalPrice\": float(pricing.get(\"totalPrice\", 0.0)),\n",
    "                            \"category\": pricing.get(\"category\", None),\n",
    "                            \"labels\": pricing.get(\"labels\", []),\n",
    "                        }\n",
    "                    )\n",
    "                # group_id += 1\n",
    "    except Exception as e:\n",
    "        print(f\"Error: {e}\")\n",
    "    return results\n",
    "\n",
    "\n",
    "def main():\n",
    "    json_files = [\n",
    "        os.path.join(RAW_DIR, f) for f in os.listdir(RAW_DIR) if f.endswith(\".json\")\n",
    "    ]\n",
    "\n",
    "    all_results = []\n",
    "    with ProcessPoolExecutor(max_workers=16) as executor:\n",
    "        futures = {\n",
    "            executor.submit(extract_labels_from_json, fp): fp for fp in json_files\n",
    "        }\n",
    "        for future in tqdm(as_completed(futures), total=len(json_files)):\n",
    "            result = future.result()\n",
    "            if result:\n",
    "                all_results.extend(result)\n",
    "\n",
    "    return pd.DataFrame(all_results)\n",
    "\n",
    "\n",
    "if __name__ == \"__main__\":\n",
    "    extract_df = main()"
   ]
  },
  {
   "cell_type": "code",
   "execution_count": 11,
   "id": "bb2cfae3",
   "metadata": {},
   "outputs": [
    {
     "name": "stdout",
     "output_type": "stream",
     "text": [
      "21347281\n"
     ]
    }
   ],
   "source": [
    "print(len(extract_df))"
   ]
  },
  {
   "cell_type": "code",
   "execution_count": 12,
   "id": "c3d803fe",
   "metadata": {},
   "outputs": [
    {
     "name": "stdout",
     "output_type": "stream",
     "text": [
      "                          ranker_id  row_id  totalPrice  category  \\\n",
      "0  b960cbc710b64950b1d76d1f06ab7968       1      8150.0       283   \n",
      "1  b960cbc710b64950b1d76d1f06ab7968       2     10205.0       256   \n",
      "2  b960cbc710b64950b1d76d1f06ab7968       3     25660.0       256   \n",
      "3  99d7fb3f49c642f0b4d45d2156271d56       1      3717.0        15   \n",
      "4  99d7fb3f49c642f0b4d45d2156271d56       2      4317.0         0   \n",
      "\n",
      "     legs0_departureAt      legs0_arrivalAt legs1_departureAt legs1_arrivalAt  \\\n",
      "0  2024-09-28T04:45:00  2024-09-28T08:10:00              None            None   \n",
      "1  2024-09-28T04:45:00  2024-09-28T08:10:00              None            None   \n",
      "2  2024-09-28T04:45:00  2024-09-28T08:10:00              None            None   \n",
      "3  2024-09-23T23:55:00  2024-09-24T01:30:00              None            None   \n",
      "4  2024-09-23T23:55:00  2024-09-24T01:30:00              None            None   \n",
      "\n",
      "  legs0_segments0_flightNumber legs1_segments0_flightNumber  \\\n",
      "0                         5310                         None   \n",
      "1                         5310                         None   \n",
      "2                         5310                         None   \n",
      "3                         6708                         None   \n",
      "4                         6708                         None   \n",
      "\n",
      "  legs0_segments1_flightNumber legs1_segments1_flightNumber  \\\n",
      "0                         5317                         None   \n",
      "1                         5317                         None   \n",
      "2                         5317                         None   \n",
      "3                         None                         None   \n",
      "4                         None                         None   \n",
      "\n",
      "                                              labels  \\\n",
      "0  [BestPrice, BestPriceTravelPolicy, BestPriceCo...   \n",
      "1                                          [MinTime]   \n",
      "2                                          [MinTime]   \n",
      "3  [BestPrice, BestPriceTravelPolicy, BestPriceDi...   \n",
      "4                                                 []   \n",
      "\n",
      "                               supplier  canBuyAddSer  flight_category  \\\n",
      "0  a1e6a000-eba1-bab0-dead-bab1bee1bee1         False                1   \n",
      "1  a1e6a000-eba1-bab0-dead-bab1bee1bee1         False                1   \n",
      "2  a1e6a000-eba1-bab0-dead-bab1bee1bee1         False                1   \n",
      "3  e294cac4-ea1b-4431-bc5c-464118070816         False                0   \n",
      "4  e294cac4-ea1b-4431-bc5c-464118070816         False                0   \n",
      "\n",
      "  ticket_designator  \n",
      "0              None  \n",
      "1              None  \n",
      "2              None  \n",
      "3              None  \n",
      "4              None  \n"
     ]
    }
   ],
   "source": [
    "print(extract_df.head())"
   ]
  },
  {
   "cell_type": "code",
   "execution_count": null,
   "id": "3c268ba5",
   "metadata": {},
   "outputs": [],
   "source": [
    "extract_df.to_parquet(OUTPUT_FILE)"
   ]
  },
  {
   "cell_type": "code",
   "execution_count": null,
   "id": "6b38bce3",
   "metadata": {},
   "outputs": [
    {
     "name": "stdout",
     "output_type": "stream",
     "text": [
      "shape: (21_347_281, 4)\n",
      "┌─────────────────────────────────┬────────┬──────────┬─────────────────────────────────┐\n",
      "│ ranker_id                       ┆ row_id ┆ category ┆ labels                          │\n",
      "│ ---                             ┆ ---    ┆ ---      ┆ ---                             │\n",
      "│ str                             ┆ i64    ┆ i64      ┆ list[str]                       │\n",
      "╞═════════════════════════════════╪════════╪══════════╪═════════════════════════════════╡\n",
      "│ 8d114ce973cf41c4907f5f7f4fd6a6… ┆ 0      ┆ 23       ┆ [\"BestPrice\", \"BestPriceTravel… │\n",
      "│ 8d114ce973cf41c4907f5f7f4fd6a6… ┆ 1      ┆ 0        ┆ []                              │\n",
      "│ 8d114ce973cf41c4907f5f7f4fd6a6… ┆ 2      ┆ 0        ┆ []                              │\n",
      "│ 8d114ce973cf41c4907f5f7f4fd6a6… ┆ 3      ┆ 264      ┆ [\"BestPriceCorporateTariff\", \"… │\n",
      "│ 8d114ce973cf41c4907f5f7f4fd6a6… ┆ 4      ┆ 256      ┆ [\"MinTime\"]                     │\n",
      "│ …                               ┆ …      ┆ …        ┆ …                               │\n",
      "│ 3921deea89204e76bf09a275b0d73c… ┆ 4996   ┆ 0        ┆ []                              │\n",
      "│ 3921deea89204e76bf09a275b0d73c… ┆ 4997   ┆ 0        ┆ []                              │\n",
      "│ 3921deea89204e76bf09a275b0d73c… ┆ 4998   ┆ 0        ┆ []                              │\n",
      "│ 3921deea89204e76bf09a275b0d73c… ┆ 4999   ┆ 0        ┆ []                              │\n",
      "│ 3921deea89204e76bf09a275b0d73c… ┆ 5000   ┆ 0        ┆ []                              │\n",
      "└─────────────────────────────────┴────────┴──────────┴─────────────────────────────────┘\n"
     ]
    }
   ],
   "source": [
    "import polars as pl\n",
    "\n",
    "# df = pl.read_csv(OUTPUT_FILE, schema_overrides={\"totalPrice\": pl.Float64})\n",
    "df = pl.read_parquet(OUTPUT_FILE)\n",
    "print(df)"
   ]
  }
 ],
 "metadata": {
  "kernelspec": {
   "display_name": "FlightRank",
   "language": "python",
   "name": "python3"
  },
  "language_info": {
   "codemirror_mode": {
    "name": "ipython",
    "version": 3
   },
   "file_extension": ".py",
   "mimetype": "text/x-python",
   "name": "python",
   "nbconvert_exporter": "python",
   "pygments_lexer": "ipython3",
   "version": "3.11.13"
  }
 },
 "nbformat": 4,
 "nbformat_minor": 5
}
